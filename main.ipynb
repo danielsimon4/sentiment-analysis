{
 "cells": [
  {
   "cell_type": "markdown",
   "metadata": {},
   "source": []
  },
  {
   "cell_type": "code",
   "execution_count": 53,
   "metadata": {},
   "outputs": [],
   "source": [
    "import os\n",
    "import random\n",
    "import numpy as np\n",
    "import pandas as pd\n",
    "import matplotlib.pyplot as plt\n",
    "\n",
    "from sklearn.feature_extraction.text import TfidfVectorizer\n",
    "from sklearn.feature_selection import SelectKBest\n",
    "from sklearn.feature_selection import f_classif\n",
    "\n",
    "from tensorflow.keras.preprocessing import sequence\n",
    "from tensorflow.keras.preprocessing import text\n",
    "\n",
    "from tensorflow.keras import models\n",
    "from tensorflow.keras.layers import Input\n",
    "from tensorflow.keras.layers import Dense\n",
    "from tensorflow.keras.layers import Dropout\n",
    "from tensorflow.python.keras.layers import Embedding\n",
    "from tensorflow.python.keras.layers import SeparableConv1D\n",
    "from tensorflow.python.keras.layers import MaxPooling1D\n",
    "from tensorflow.python.keras.layers import GlobalAveragePooling1D\n",
    "\n",
    "from tensorflow.keras.optimizers import Adam\n",
    "from tensorflow.keras.callbacks import EarlyStopping"
   ]
  },
  {
   "cell_type": "markdown",
   "metadata": {},
   "source": [
    "## Load dataset"
   ]
  },
  {
   "cell_type": "markdown",
   "metadata": {},
   "source": [
    "I will use the [IMDb movie reviews sentiment analysis dataset](https://ai.stanford.edu/%7Eamaas/data/sentiment/) which contains **movie reviews** posted by people on the [IMDb website](https://www.imdb.com/), as well as the corresponding labels (\"positive” or “negative”) indicating whether the reviewer liked the movie or not. There are 50,000 movie reviews divided into 25,000 reviews for training and 25,000 reviews for testing. The training and test sets are balanced, meaning they contain the same number of positive and negative reviews.\n",
    "\n",
    "The data samples may be in a specific order. A simple best practice to ensure the model is not affected by data order is to always first shuffle the data."
   ]
  },
  {
   "cell_type": "code",
   "execution_count": 54,
   "metadata": {},
   "outputs": [],
   "source": [
    "def load_dataset(data_path, seed=123):\n",
    "\n",
    "    \"\"\"Loads the IMDb movie reviews sentiment analysis dataset.\n",
    "\n",
    "    Arguments\n",
    "    - data_path: string, path to the data directory.\n",
    "    - seed: int, seed for randomizer.\n",
    "\n",
    "    Returns\n",
    "    - A tuple of training, validation, and testing data.\n",
    "\n",
    "    References\n",
    "    - Download and uncompress archive from:\n",
    "    http://ai.stanford.edu/~amaas/data/sentiment/aclImdb_v1.tar.gz\n",
    "    \"\"\"\n",
    "\n",
    "    imdb_data_path = os.path.join(data_path, 'aclImdb')\n",
    "\n",
    "    # Load the training data\n",
    "    train_texts = []\n",
    "    train_labels = []\n",
    "    for category in ['pos', 'neg']:\n",
    "        train_path = os.path.join(imdb_data_path, 'train', category)\n",
    "        for fname in sorted(os.listdir(train_path)):\n",
    "            if fname.endswith('.txt'):\n",
    "                with open(os.path.join(train_path, fname), encoding='utf-8') as f:\n",
    "                    train_texts.append(f.read())\n",
    "                train_labels.append(0 if category == 'neg' else 1)\n",
    "    \n",
    "    # Shuffle the training data and labels\n",
    "    random.seed(seed)\n",
    "    random.shuffle(train_texts)\n",
    "    random.seed(seed)\n",
    "    random.shuffle(train_labels)\n",
    "\n",
    "    # Load the test data\n",
    "    test_texts = []\n",
    "    test_labels = []\n",
    "    for category in ['pos', 'neg']:\n",
    "        test_path = os.path.join(imdb_data_path, 'test', category)\n",
    "        for fname in sorted(os.listdir(test_path)):\n",
    "            if fname.endswith('.txt'):\n",
    "                with open(os.path.join(test_path, fname), encoding='utf-8') as f:\n",
    "                    test_texts.append(f.read())\n",
    "                test_labels.append(0 if category == 'neg' else 1)\n",
    "    \n",
    "    # Split test data into test and validation data\n",
    "    val_texts = test_texts[:10000]\n",
    "    val_labels = test_labels[:10000]\n",
    "    test_texts = test_texts[10000:]\n",
    "    test_labels = test_labels[10000:]\n",
    "\n",
    "    return ((train_texts, np.array(train_labels)),\n",
    "            (val_texts, np.array(val_labels)),\n",
    "            (test_texts, np.array(test_labels)))"
   ]
  },
  {
   "cell_type": "markdown",
   "metadata": {},
   "source": [
    "## Explore dataset"
   ]
  },
  {
   "cell_type": "code",
   "execution_count": 55,
   "metadata": {},
   "outputs": [],
   "source": [
    "(train_texts, train_labels), (val_texts, val_labels), (test_texts, test_labels) = load_dataset(r\"C:\\Users\\danie\\Desktop\\Projects\\sentiment-analysis\")"
   ]
  },
  {
   "cell_type": "code",
   "execution_count": 56,
   "metadata": {},
   "outputs": [
    {
     "name": "stdout",
     "output_type": "stream",
     "text": [
      "Number of training samples: 25000\n",
      "Number of validation samples: 10000\n",
      "Number of test samples: 15000\n"
     ]
    }
   ],
   "source": [
    "print(f\"Number of training samples: {len(train_texts)}\")\n",
    "print(f\"Number of validation samples: {len(val_texts)}\")\n",
    "print(f\"Number of test samples: {len(test_texts)}\")"
   ]
  },
  {
   "cell_type": "markdown",
   "metadata": {},
   "source": [
    "Let's see how our data looks like and check if the sentiment label corresponds to the sentiment of the review in a random sample:"
   ]
  },
  {
   "cell_type": "code",
   "execution_count": 57,
   "metadata": {},
   "outputs": [
    {
     "data": {
      "text/plain": [
       "'A pointless movie with nothing but gratuitous violence. The only fun I had was playing \"spot the location\", as much of it was filmed in my home town of Regina, Saskatchewan. I like to support locally produced films but this one was a major disappointment.'"
      ]
     },
     "execution_count": 57,
     "metadata": {},
     "output_type": "execute_result"
    }
   ],
   "source": [
    "train_texts[5]"
   ]
  },
  {
   "cell_type": "markdown",
   "metadata": {},
   "source": [
    "The expected sentiment (negative) matches the sample’s label:"
   ]
  },
  {
   "cell_type": "code",
   "execution_count": 58,
   "metadata": {},
   "outputs": [
    {
     "data": {
      "text/plain": [
       "0"
      ]
     },
     "execution_count": 58,
     "metadata": {},
     "output_type": "execute_result"
    }
   ],
   "source": [
    "train_labels[5]"
   ]
  },
  {
   "cell_type": "markdown",
   "metadata": {},
   "source": [
    "## Chose a model"
   ]
  },
  {
   "cell_type": "markdown",
   "metadata": {},
   "source": [
    "[Google Developers](https://developers.google.com/machine-learning/guides/text-classification/step-2-5) have created the following model selection algorithm and flowchart attempting to significantly simplify the process of selecting a text classification model. For a given dataset, their goal was to find the algorithm that achieves close to maximum accuracy while minimizing computation time required for training.\n",
    "\n",
    "Models can be broadly classified into two categories:\n",
    "\n",
    "- **N-gram models (Models that just see text as “bags” (sets) of words):** With n-gram vector representation, we discard a lot of information about word order and grammar. This representation is used in conjunction with models that don’t take ordering into account, such as logistic regression, simple multi-layer perceptrons (MLPs, or fully-connected neural networks), gradient boosted trees and support vector machines.\n",
    "\n",
    "- **Sequence models (Models that use word ordering information):** For some text samples, word order is critical to the text’s meaning. Models such as convolutional neural networks (CNNs), and recurrent neural networks (RNNs) can infer meaning from the order of words in a sample.\n",
    "\n",
    "\n",
    "The ratio of *number of samples* to *number of words per sample* correlates with which model performs better. \n",
    "- When the value for this ratio is **small (<1500)**, small multi-layer perceptrons that take **n-grams** as input perform better or at least as well as sequence models. MLPs are simple to define and understand, and they take much less compute time than sequence models. \n",
    "- When the value for this ratio is **large (>= 1500)**, a **sequence** model is a better option. Sequence models are better when there are a large number of small, dense vectors. This is because embedding relationships are learned in dense space, and this happens best over many samples.\n",
    "\n",
    "<br>\n",
    "\n",
    "**Model selection algorithm:**\n",
    "1. Calculate the *number of samples* to *number of words per sample* ratio.\n",
    "2. If this ratio is less than 1500, tokenize the text as n-grams and use a simple multi-layer perceptron (MLP) model to classify them (left branch in the flowchart below):\n",
    "- Split the samples into word n-grams and convert the n-grams into vectors.\n",
    "- Score the importance of the vectors and then select the top 20K using the scores.\n",
    "- Build an MLP model.\n",
    "3. If the ratio is greater than 1500, tokenize the text as sequences and use a sepCNN model to classify them (right branch in the flowchart below):\n",
    "- Split the samples into words and select the top 20K words based on their frequency.\n",
    "- Convert the samples into word sequence vectors.\n",
    "- If the ratio is less than 15K, using a fine-tuned pre-trained embedding with the sepCNN model will likely provide the best results.\n",
    "4. Measure the model performance with different hyperparameter values to find the best model configuration for the dataset.\n",
    "\n",
    "<br>\n",
    "\n",
    "**Flowchart:**\n",
    "\n",
    "In the flowchart below, the yellow boxes indicate data and model preparation processes. Grey boxes and green boxes indicate choices they considered for each process. Green boxes indicate their recommended choice for each process.\n",
    "\n",
    "<div style=\"width: 700px; overflow: hidden;\">\n",
    "    <img src=\"https://developers.google.com/static/machine-learning/guides/text-classification/images/TextClassificationFlowchart.png\" width=\"100%\" alt=\"Your Image\">\n",
    "</div>"
   ]
  },
  {
   "cell_type": "markdown",
   "metadata": {},
   "source": [
    "Let's compute the *number of samples* to *number of words per sample* ratio:"
   ]
  },
  {
   "cell_type": "code",
   "execution_count": 59,
   "metadata": {},
   "outputs": [],
   "source": [
    "def get_num_words_per_sample(sample_texts):\n",
    "    \"\"\"Gets the median number of words per sample given corpus.\n",
    "\n",
    "    Arguments\n",
    "    - sample_texts: list, sample texts.\n",
    "\n",
    "    Returns\n",
    "    - int, median number of words per sample.\n",
    "    \"\"\"\n",
    "    num_words = [len(s.split()) for s in sample_texts]\n",
    "    return np.median(num_words)"
   ]
  },
  {
   "cell_type": "code",
   "execution_count": 60,
   "metadata": {},
   "outputs": [
    {
     "data": {
      "text/plain": [
       "143.67816091954023"
      ]
     },
     "execution_count": 60,
     "metadata": {},
     "output_type": "execute_result"
    }
   ],
   "source": [
    "25000 / get_num_words_per_sample(train_texts)"
   ]
  },
  {
   "cell_type": "markdown",
   "metadata": {},
   "source": [
    "In the case of our IMDb review dataset, the ratio of *number of samples* to *number of words per sample* is less than 1500 so we should choose a n-gram model. We will create a n-gran model and sequence model for practice and comparison."
   ]
  },
  {
   "cell_type": "markdown",
   "metadata": {},
   "source": [
    "## Data pre-procesing"
   ]
  },
  {
   "cell_type": "markdown",
   "metadata": {},
   "source": [
    "Machine learning algorithms take numbers as inputs. This means that we will need to convert the texts into numerical vectors. There are two steps to this process:\n",
    "\n",
    "- **1. Tokenization:** Divide the texts into words or smaller sub-texts, which will enable good generalization of relationship between the texts and the labels. This determines the “vocabulary” of the dataset (set of unique tokens present in the data).\n",
    "- **2. Vectorization:** Define a good numerical measure to characterize these texts.\n",
    "\n",
    "Let’s see how to perform these two steps for both **n-gram vectors** and **sequence vectors**, as well as how to optimize the vector representations using feature selection and normalization techniques."
   ]
  },
  {
   "cell_type": "markdown",
   "metadata": {},
   "source": [
    "### N-gram vectors"
   ]
  },
  {
   "cell_type": "markdown",
   "metadata": {},
   "source": [
    "In an n-gram vector, text is represented as a **collection of unique n-grams: groups of n adjacent tokens** (typically, words).\n",
    "\n",
    "<br>\n",
    "\n",
    "**1. Tokenization**\n",
    "\n",
    "First, we have to split (tokenize) the text samles into word unigrams and bigrams. Thus, we will determines the \"vocabulary\" of the dataset. In the case of the text sample *'The mouse ran up the clock'*.\n",
    "\n",
    "- The word unigrams (n = 1) are ['the', 'mouse', 'ran', 'up', 'clock']\n",
    "\n",
    "- The word bigrams (n = 2) are ['the mouse', 'mouse ran', 'ran up', 'up the', 'the clock']\n",
    "\n",
    "<br>\n",
    "\n",
    "**2. Vectorization**\n",
    "\n",
    "Once we have split our text samples into n-grams, we need to turn these n-grams into numerical vectors that our machine learning models can process. In the case of the text samples *'The mouse ran up the clock'* and *'The mouse ran down'*.\n",
    "\n",
    "- The indexes assigned to the unigrams and bigrams would be {'clock': 0, 'down': 1, 'mouse': 2, 'mouse ran': 3, 'ran': 4, 'ran down': 5, 'ran up': 6, 'the': 7, 'the clock': 8, 'the mouse': 9, 'up': 10, 'up the': 11}\n",
    "\n",
    "\n",
    "Once indexes are assigned to the n-grams, we typically vectorize the text samples using one-hot encoding, count encoding, or **Tf-idf encoding**. This last option is recommend for vectorizing n-grams. In the case of the  text sample *'The mouse ran up the clock'*.\n",
    "- The vectorization using Tf-idf encoding would be [0.33, 0, 0.23, 0.23, 0.23, 0, 0.33, 0.47, 0.33, 0.23, 0.33, 0.33]\n",
    "\n",
    "<br>\n",
    "\n",
    "**3. Feature selection**\n",
    "\n",
    "When we convert all of the texts in a dataset into word uni+bigram tokens, we may end up with tens of thousands of tokens. Not all of these tokens/features contribute to label prediction so we can drop certain tokens, for instance those that occur extremely rarely across the dataset. We can also measure feature importance (how much each token contributes to label predictions), and only include the most informative tokens. Two commonly used functions to calculate feature importance are **f_classif** and chi2. In addition, it has been noticed that accuracy peaks at around 20,000 features for many datasets.\n",
    "\n",
    "<br>\n",
    "\n",
    "The following code:\n",
    "- Tokenize text samples into word unigrams + bigrams.\n",
    "- Vectorize using tf-idf encoding.\n",
    "- Select only the top 20,000 features from the vector of tokens by discarding tokens that appear fewer than 2 times and using f_classif to calculate feature importance."
   ]
  },
  {
   "cell_type": "markdown",
   "metadata": {},
   "source": [
    "Vectorization parameters:"
   ]
  },
  {
   "cell_type": "code",
   "execution_count": 61,
   "metadata": {},
   "outputs": [],
   "source": [
    "# Range (inclusive) of n-gram sizes for tokenizing text\n",
    "NGRAM_RANGE = (1, 2)\n",
    "\n",
    "# Whether text should be split into word or character n-grams ('word' or 'char')\n",
    "TOKEN_MODE = 'word'\n",
    "\n",
    "# Minimum document/corpus frequency below which a token will be discarded\n",
    "MIN_DOCUMENT_FREQUENCY = 2\n",
    "\n",
    "# Limit on the number of features. We use the top 20K features\n",
    "TOP_K = 20000"
   ]
  },
  {
   "cell_type": "code",
   "execution_count": 62,
   "metadata": {},
   "outputs": [],
   "source": [
    "def ngram_vectorize(train_texts, train_labels, val_texts, test_texts):\n",
    "    \"\"\"Vectorizes texts as n-gram vectors\n",
    "    \n",
    "    1 text = 1 tf-idf vector the length of vocabulary of unigrams + bigrams\n",
    "\n",
    "    Arguments:\n",
    "    - train_texts: list, training text strings\n",
    "    - train_labels: np.ndarray, training labels\n",
    "    - val_texts: list, validation text strings\n",
    "    - test_texts: list, test text strings\n",
    "\n",
    "    Returns:\n",
    "    - train_texts, val_texts, test_texts: vectorized training, validation, and test texts\n",
    "    \"\"\"\n",
    "\n",
    "    # Create keyword arguments to pass to the 'tf-idf' vectorizer\n",
    "    kwargs = {\n",
    "        'ngram_range': NGRAM_RANGE,\n",
    "        'strip_accents': 'unicode',\n",
    "        'decode_error': 'replace',\n",
    "        'analyzer': TOKEN_MODE,\n",
    "        'min_df': MIN_DOCUMENT_FREQUENCY,\n",
    "    }\n",
    "    vectorizer = TfidfVectorizer(**kwargs)\n",
    "\n",
    "    # Learn vocabulary from training texts and vectorize training texts\n",
    "    train_texts = vectorizer.fit_transform(train_texts)\n",
    "\n",
    "    # Vectorize validation texts\n",
    "    val_texts = vectorizer.transform(val_texts)\n",
    "\n",
    "    # Vectorize test texts\n",
    "    test_texts = vectorizer.transform(test_texts)\n",
    "    \n",
    "    # Select top 'k' of the vectorized features\n",
    "    selector = SelectKBest(f_classif, k=min(TOP_K, train_texts.shape[1]))\n",
    "    selector.fit(train_texts, train_labels)\n",
    "    train_texts = selector.transform(train_texts).astype('float32')\n",
    "    val_texts = selector.transform(val_texts).astype('float32')\n",
    "    test_texts = selector.transform(test_texts).astype('float32')\n",
    "    return train_texts, val_texts, test_texts"
   ]
  },
  {
   "cell_type": "markdown",
   "metadata": {},
   "source": [
    "### Sequence vectors"
   ]
  },
  {
   "cell_type": "markdown",
   "metadata": {},
   "source": [
    "In a sequence vector, text is represented as a **sequence of tokens, preserving order**.\n",
    "\n",
    "<br>\n",
    "\n",
    "**1. Tokenization**\n",
    "\n",
    "Text can be represented as either a sequence of characters, or a sequence of words. Using word-level representation provides better performance than character tokens. Using character tokens makes sense only if texts have lots of typos.\n",
    "\n",
    "<br>\n",
    "\n",
    "**2. Vectorization**\n",
    "\n",
    "Once we have converted our text samples into sequences of words, we need to turn these sequences into numerical vectors. The example below shows the indexes assigned to the unigrams generated for two texts, and then the sequence of token indexes to which the first text is converted.\n",
    "\n",
    "- Texts: 'The mouse ran up the clock' and 'The mouse ran down'\n",
    "- Index assigned for every token: {'the': 1, 'mouse': 2, 'ran': 3, 'up': 4,'clock': 5, 'down': 6}.\n",
    "- Sequence of token indexes: 'The mouse ran up the clock' = [1, 2, 3, 4, 1, 5]\n",
    "\n",
    "Note that 'the' occurs most frequently, so the index value of 1 is assigned to it. Also some libraries reserve index 0 for unknown tokens, as is the case here.\n",
    "\n",
    "To vectorize the token sequences we can use one-hot encoding, or **word embeddings**. This last option is recommend for vectorizing sequences since words have meaning(s) associated with them. As a result, we can represent word tokens in a dense vector space (~few hundred real numbers), where the location and distance between words indicates how similar they are semantically.\n",
    "\n",
    "\n",
    "<div style=\"width: 900px; overflow: hidden;\">\n",
    "    <img src=\"https://developers.google.com/static/machine-learning/guides/text-classification/images/WordEmbeddings.png\" width=\"100%\" alt=\"Your Image\">\n",
    "</div>\n",
    "\n",
    "Sequence models often have such an embedding layer as their first layer. This layer learns to **turn word index sequences into word embedding vectors** during the training process, such that **each word index gets mapped to a dense vector** of real values representing that word’s location in semantic space.\n",
    "\n",
    "<div style=\"width: 900px; overflow: hidden;\">\n",
    "    <img src=\"https://developers.google.com/static/machine-learning/guides/text-classification/images/EmbeddingLayer.png\" width=\"100%\" alt=\"Your Image\">\n",
    "</div>\n",
    "\n",
    "<br>\n",
    "\n",
    "**3. Feature selection**\n",
    "\n",
    "As in n-gram models, not all words in our data contribute to label predictions. We can optimize our learning process by discarding rare or irrelevant words from our vocabulary. Again, using the most frequent 20,000 features is generally sufficient.\n",
    "\n",
    "<br>\n",
    "\n",
    "The following code:\n",
    "\n",
    "- Tokenizes the texts into words.\n",
    "- Creates a vocabulary using the top 20,000 tokens.\n",
    "- Converts the tokens into sequence vectors.\n",
    "- Pads the sequences to a fixed sequence length."
   ]
  },
  {
   "cell_type": "markdown",
   "metadata": {},
   "source": [
    "Vectorization parameters:"
   ]
  },
  {
   "cell_type": "code",
   "execution_count": 63,
   "metadata": {},
   "outputs": [],
   "source": [
    "# Limit on the number of features. We use the top 20K features\n",
    "TOP_K = 20000\n",
    "\n",
    "# Limit on the length of text sequences (sequences longer than this will be truncated)\n",
    "MAX_SEQUENCE_LENGTH = 500"
   ]
  },
  {
   "cell_type": "code",
   "execution_count": 64,
   "metadata": {},
   "outputs": [],
   "source": [
    "def sequence_vectorize(train_texts, val_texts, test_texts):\n",
    "    \"\"\"Vectorizes texts as sequence vectors\n",
    "\n",
    "    1 text = 1 sequence vector with fixed length\n",
    "\n",
    "    Arguments\n",
    "    - train_texts: list, training text strings\n",
    "    - val_texts: list, validation text strings\n",
    "    - test_texts: list, test text strings\n",
    "\n",
    "    Returns:\n",
    "    - train_texts, val_texts, test_texts, word_index: vectorized training, validation, and test texts; and word index dictionary.\n",
    "    \"\"\"\n",
    "\n",
    "    # Create vocabulary with training texts.\n",
    "    tokenizer = text.Tokenizer(num_words=TOP_K)\n",
    "    tokenizer.fit_on_texts(train_texts)\n",
    "\n",
    "    # Vectorize training and validation texts.\n",
    "    train_texts = tokenizer.texts_to_sequences(train_texts)\n",
    "    val_texts = tokenizer.texts_to_sequences(val_texts)\n",
    "    test_texts = tokenizer.texts_to_sequences(test_texts)\n",
    "\n",
    "    # Get max sequence length.\n",
    "    max_length = len(max(train_texts, key=len))\n",
    "    if max_length > MAX_SEQUENCE_LENGTH:\n",
    "        max_length = MAX_SEQUENCE_LENGTH\n",
    "\n",
    "    # Fix sequence length to max value. Sequences shorter than the length are\n",
    "    # padded in the beginning and sequences longer are truncated at the beginning.\n",
    "    train_texts = sequence.pad_sequences(train_texts, maxlen=max_length)\n",
    "    val_texts = sequence.pad_sequences(val_texts, maxlen=max_length)\n",
    "    test_texts = sequence.pad_sequences(test_texts, maxlen=max_length)\n",
    "    \n",
    "    return train_texts, val_texts, test_texts, tokenizer.word_index"
   ]
  },
  {
   "cell_type": "markdown",
   "metadata": {},
   "source": [
    "## Build Models"
   ]
  },
  {
   "cell_type": "markdown",
   "metadata": {},
   "source": [
    "### Output layer"
   ]
  },
  {
   "cell_type": "markdown",
   "metadata": {},
   "source": [
    "When there are **only 2 classes (binary classification)**, the model should **output a single probability score**. For instance, outputting 0.14 for a given input sample means “14% confidence that this sample is in class 1, 86% that it is in class 2.” To output such a probability score, the activation function of the last layer should be a sigmoid function, and the loss function used to train the model should be binary cross-entropy.\n",
    "\n",
    "When there are **more than 2 classes (multi-class classification)**, the model should **output one probability score per class**. The sum of these scores should be 1. For instance, outputting {0: 0.01, 1: 0.14, 2: 0.85} means “1% confidence that this sample is in class 1, 14% that it is in class 2, and 85% that it is in class 3.” To output these scores, the activation function of the last layer should be softmax, and the loss function used to train the model should be categorical cross-entropy.\n",
    "\n",
    "\n",
    "<div style=\"width: 900px; overflow: hidden;\">\n",
    "    <img src=\"https://developers.google.com/static/machine-learning/guides/text-classification/images/LastLayer.png\" width=\"100%\" alt=\"Your Image\">\n",
    "</div>\n",
    "\n",
    "The following code defines a function that takes the number of classes as input, and outputs the appropriate output layer **# of units** (1 unit for binary classification; otherwise 1 unit for each class) and **activation function**:"
   ]
  },
  {
   "cell_type": "code",
   "execution_count": 65,
   "metadata": {},
   "outputs": [],
   "source": [
    "def _get_last_layer_units_and_activation(num_classes):\n",
    "    \"\"\"Gets the # units and activation function for the last network layer.\n",
    "\n",
    "    Arguments\n",
    "    - num_classes: int, number of classes.\n",
    "\n",
    "    Returns\n",
    "    - units, activation values.\n",
    "    \"\"\"\n",
    "    if num_classes == 2:\n",
    "        activation = 'sigmoid'\n",
    "        units = 1\n",
    "    else:\n",
    "        activation = 'softmax'\n",
    "        units = num_classes\n",
    "    return units, activation"
   ]
  },
  {
   "cell_type": "markdown",
   "metadata": {},
   "source": [
    "### N-gram model"
   ]
  },
  {
   "cell_type": "markdown",
   "metadata": {},
   "source": [
    "**Multi-layer perceptrons (MLPs)** typically perform better since they are simple to define and understand, provide good accuracy, and require relatively little computation. The following code defines a MLP model using tensorflow.keras, adding Dropout layers for regularization (to prevent overfitting to training samples):"
   ]
  },
  {
   "cell_type": "code",
   "execution_count": 66,
   "metadata": {},
   "outputs": [],
   "source": [
    "def mlp_model(layers, units, dropout_rate, input_shape, num_classes):\n",
    "    \"\"\"Creates an instance of a multi-layer perceptron model.\n",
    "\n",
    "    Arguments\n",
    "    - layers: int, number of `Dense` layers in the model.\n",
    "    - units: int, output dimension of the `Dense` layers.\n",
    "    - dropout_rate: float, percentage of input to drop at `Dropout` layers.\n",
    "    - input_shape: tuple, shape of input to the model.\n",
    "    - num_classes: int, number of output classes.\n",
    "\n",
    "    Returns\n",
    "    - An MLP model instance.\n",
    "    \"\"\"\n",
    "    op_units, op_activation = _get_last_layer_units_and_activation(num_classes)\n",
    "    model = models.Sequential()\n",
    "\n",
    "    model.add(Input(input_shape))\n",
    "    model.add(Dropout(rate=dropout_rate))\n",
    "\n",
    "    for _ in range(layers-1):\n",
    "        model.add(Dense(units=units, activation='relu'))\n",
    "        model.add(Dropout(rate=dropout_rate))\n",
    "\n",
    "    model.add(Dense(units=op_units, activation=op_activation))\n",
    "    return model"
   ]
  },
  {
   "cell_type": "markdown",
   "metadata": {},
   "source": [
    "### Sequence model"
   ]
  },
  {
   "cell_type": "markdown",
   "metadata": {},
   "source": [
    "As mentioned before, sequence models that can **learn from the adjacency of tokens**. They generally have a larger number of parameters to learn. The first layer in these models is an **embedding layer**, which learns the relationship between the words in a dense vector space. Learning word relationships works best over many samples.\n",
    "\n",
    "Words in a given dataset are most likely not unique to that dataset. We can thus learn the relationship between the words in our dataset using other datasets. To do so, we can transfer an embedding learned from another dataset into our embedding layer. These embeddings are referred to as **pre-trained embeddings**. Using a pre-trained embedding gives the model a head start in the learning process.\n",
    "\n",
    "There are pre-trained embeddings available that have been trained using large corpora, such as [GloVe](https://nlp.stanford.edu/projects/glove/). GloVe embeddings trained on Wikipedia data may not align with the language patterns in our IMDb dataset. The relationships inferred may need some updating (the embedding weights may need contextual tuning). We can do this in two stages:\n",
    "\n",
    "- In the first run, with the embedding layer weights frozen, we allow the rest of the network to learn. At the end of this run, the model weights reach a state that is much better than their uninitialized values. For the second run, we allow the embedding layer to also learn, making fine adjustments to all weights in the network. We refer to this process as using a **fine-tuned embedding**.\n",
    "\n",
    "- Fine-tuned embeddings yield better accuracy. However, this comes at the expense of increased compute power required to train the network. Given a sufficient number of samples (the ratio of *number of samples* to *number of words per sample* > 15k), we could do just as well **learning an embedding from scratch**.\n",
    "\n",
    "**sepCNNs**, a convolutional network variant, is often more efficient and perform better than other models."
   ]
  },
  {
   "cell_type": "code",
   "execution_count": 67,
   "metadata": {},
   "outputs": [],
   "source": [
    "def sepcnn_model(blocks, filters, kernel_size, embedding_dim, dropout_rate, pool_size,\n",
    "                 input_shape, num_classes, num_features, use_pretrained_embedding=False,\n",
    "                 is_embedding_trainable=False, embedding_matrix=None):\n",
    "    \"\"\"Creates an instance of a separable CNN model.\n",
    "\n",
    "    Arguments\n",
    "    - blocks: int, number of pairs of sepCNN and pooling blocks in the model.\n",
    "    - filters: int, output dimension of the layers.\n",
    "    - kernel_size: int, length of the convolution window.\n",
    "    - embedding_dim: int, dimension of the embedding vectors.\n",
    "    - dropout_rate: float, percentage of input to drop at Dropout layers.\n",
    "    - pool_size: int, factor by which to downscale input at MaxPooling layer.\n",
    "    - input_shape: tuple, shape of input to the model.\n",
    "    - num_classes: int, number of output classes.\n",
    "    - num_features: int, number of words (embedding input dimension).\n",
    "    - use_pretrained_embedding: bool, true if pre-trained embedding is on.\n",
    "    - is_embedding_trainable: bool, true if embedding layer is trainable.\n",
    "    - embedding_matrix: dict, dictionary with embedding coefficients.\n",
    "\n",
    "    Returns\n",
    "    - A sepCNN model instance.\n",
    "    \"\"\"\n",
    "    op_units, op_activation = _get_last_layer_units_and_activation(num_classes)\n",
    "    model = models.Sequential()\n",
    "\n",
    "    # Add embedding layer. If pre-trained embedding is used add weights to the\n",
    "    # embeddings layer and set trainable to input is_embedding_trainable flag.\n",
    "    if use_pretrained_embedding:\n",
    "        model.add(Embedding(input_dim=num_features,\n",
    "                            output_dim=embedding_dim,\n",
    "                            input_length=input_shape[0],\n",
    "                            weights=[embedding_matrix],\n",
    "                            trainable=is_embedding_trainable))\n",
    "    else:\n",
    "        model.add(Embedding(input_dim=num_features,\n",
    "                            output_dim=embedding_dim,\n",
    "                            input_length=input_shape[0]))\n",
    "\n",
    "    for _ in range(blocks-1):\n",
    "        model.add(Dropout(rate=dropout_rate))\n",
    "        model.add(SeparableConv1D(filters=filters,\n",
    "                                  kernel_size=kernel_size,\n",
    "                                  activation='relu',\n",
    "                                  bias_initializer='random_uniform',\n",
    "                                  depthwise_initializer='random_uniform',\n",
    "                                  padding='same'))\n",
    "        model.add(SeparableConv1D(filters=filters,\n",
    "                                  kernel_size=kernel_size,\n",
    "                                  activation='relu',\n",
    "                                  bias_initializer='random_uniform',\n",
    "                                  depthwise_initializer='random_uniform',\n",
    "                                  padding='same'))\n",
    "        model.add(MaxPooling1D(pool_size=pool_size))\n",
    "\n",
    "    model.add(SeparableConv1D(filters=filters * 2,\n",
    "                              kernel_size=kernel_size,\n",
    "                              activation='relu',\n",
    "                              bias_initializer='random_uniform',\n",
    "                              depthwise_initializer='random_uniform',\n",
    "                              padding='same'))\n",
    "    model.add(SeparableConv1D(filters=filters * 2,\n",
    "                              kernel_size=kernel_size,\n",
    "                              activation='relu',\n",
    "                              bias_initializer='random_uniform',\n",
    "                              depthwise_initializer='random_uniform',\n",
    "                              padding='same'))\n",
    "    model.add(GlobalAveragePooling1D())\n",
    "    model.add(Dropout(rate=dropout_rate))\n",
    "    model.add(Dense(op_units, activation=op_activation))\n",
    "    return model"
   ]
  },
  {
   "cell_type": "markdown",
   "metadata": {},
   "source": [
    "## Train models"
   ]
  },
  {
   "cell_type": "markdown",
   "metadata": {},
   "source": [
    "Training involves making a prediction based on the current state of the model, calculating how incorrect the prediction is, and updating the weights and biases of the network to minimize this error and make the model predict better. We repeat this process until our model has converged and can no longer learn. There are three key parameters to be chosen for this process:\n",
    "- **Optimizer:** A function that decides how the network weights will be updated based on the output of the loss function.\n",
    "- **Loss function:** A function that is used to calculate a loss value that the training process then attempts to minimize by tuning the network weights.\n",
    "- **Metric:** How to measure the performance of our model using a metric. We used accuracy as the metric in our experiments.\n",
    "\n",
    "In each training iteration, **batch_size** number of samples from your training data are used to compute the loss, and the weights are updated once, based on this value. The training process completes an **epoch** once the model has seen the entire training dataset. At the end of each epoch, we use the validation dataset to evaluate how well the model is learning. We repeat training using the dataset for a predetermined number of epochs. We may optimize this by **stopping early**, when the validation accuracy stabilizes between consecutive epochs, showing that the model is not learning anymore."
   ]
  },
  {
   "cell_type": "markdown",
   "metadata": {},
   "source": [
    "### N-gram model"
   ]
  },
  {
   "cell_type": "code",
   "execution_count": 68,
   "metadata": {},
   "outputs": [],
   "source": [
    "def train_ngram_model(train_texts, train_labels, val_texts, val_labels, test_texts, layers=2, units=64, dropout_rate=0.2, num_classes=2, learning_rate=1e-4, epochs=1000, batch_size=128):\n",
    "    \"\"\"Trains n-gram model on the given dataset.\n",
    "\n",
    "    Arguments\n",
    "    - data: tuples of training and test texts and labels.\n",
    "    - layers: int, number of `Dense` layers in the model.\n",
    "    - units: int, output dimension of the `Dense` layers.\n",
    "    - dropout_rate: float, percentage of input to drop at `Dropout` layers.\n",
    "    - input_shape: tuple, shape of input to the model.\n",
    "    - num_classes: int, number of output classes.\n",
    "    - learning_rate: float, learning rate for training model.\n",
    "    - epochs: int, number of epochs.\n",
    "    - batch_size: int, number of samples per batch.\n",
    "    \"\"\"\n",
    "\n",
    "    # Vectorize texts\n",
    "    train_texts, val_texts, test_texts = ngram_vectorize(train_texts, train_labels, val_texts, test_texts)\n",
    "\n",
    "    # Converse sparse matrix to a dense np.array\n",
    "    train_texts = train_texts.toarray()\n",
    "\n",
    "    # Create model instance\n",
    "    model = mlp_model(layers=layers, \n",
    "                      units=units, \n",
    "                      dropout_rate=dropout_rate,\n",
    "                      input_shape=train_texts.shape[1:],\n",
    "                      num_classes=num_classes)\n",
    "\n",
    "    # Compile model with learning parameters\n",
    "    if num_classes == 2:\n",
    "        loss = 'binary_crossentropy'\n",
    "    else:\n",
    "        loss = 'sparse_categorical_crossentropy'\n",
    "    \n",
    "    model.compile(optimizer=Adam(learning_rate=learning_rate), loss=loss, metrics=['acc'])\n",
    "\n",
    "    # Create callback for early stopping on validation loss.\n",
    "    # If the loss does not decrease in patience consecutive tries, stop training.\n",
    "    callbacks = [EarlyStopping(monitor='val_loss', patience=4)]\n",
    "\n",
    "    # Train and validate model.\n",
    "    history = model.fit(\n",
    "            train_texts,\n",
    "            train_labels,\n",
    "            epochs=epochs,\n",
    "            callbacks=callbacks,\n",
    "            validation_data=(val_texts, val_labels),\n",
    "            verbose=2,  # Logs once per epoch.\n",
    "            batch_size=batch_size)\n",
    "\n",
    "    # Print results.\n",
    "    print(f\"\\nValidation accuracy: {history.history['val_acc'][-1]}, loss: {history.history['val_loss'][-1]}\")\n",
    "\n",
    "    # Save model.\n",
    "    model.save('ngram_model.keras')\n",
    "\n",
    "    return model, history, test_texts"
   ]
  },
  {
   "cell_type": "code",
   "execution_count": 69,
   "metadata": {},
   "outputs": [
    {
     "name": "stdout",
     "output_type": "stream",
     "text": [
      "Epoch 1/1000\n",
      "196/196 - 9s - 47ms/step - acc: 0.7952 - loss: 0.6724 - val_acc: 0.8652 - val_loss: 0.6496\n",
      "Epoch 2/1000\n",
      "196/196 - 6s - 32ms/step - acc: 0.8793 - loss: 0.6136 - val_acc: 0.8557 - val_loss: 0.6017\n",
      "Epoch 3/1000\n",
      "196/196 - 6s - 32ms/step - acc: 0.8851 - loss: 0.5516 - val_acc: 0.8644 - val_loss: 0.5476\n",
      "Epoch 4/1000\n",
      "196/196 - 6s - 31ms/step - acc: 0.8899 - loss: 0.4930 - val_acc: 0.8747 - val_loss: 0.4938\n",
      "Epoch 5/1000\n",
      "196/196 - 6s - 30ms/step - acc: 0.8958 - loss: 0.4410 - val_acc: 0.8810 - val_loss: 0.4488\n",
      "Epoch 6/1000\n",
      "196/196 - 6s - 31ms/step - acc: 0.9004 - loss: 0.3970 - val_acc: 0.8860 - val_loss: 0.4124\n",
      "Epoch 7/1000\n",
      "196/196 - 6s - 32ms/step - acc: 0.9056 - loss: 0.3616 - val_acc: 0.8863 - val_loss: 0.3876\n",
      "Epoch 8/1000\n",
      "196/196 - 6s - 31ms/step - acc: 0.9080 - loss: 0.3326 - val_acc: 0.8842 - val_loss: 0.3697\n",
      "Epoch 9/1000\n",
      "196/196 - 6s - 31ms/step - acc: 0.9122 - loss: 0.3089 - val_acc: 0.8925 - val_loss: 0.3427\n",
      "Epoch 10/1000\n",
      "196/196 - 6s - 31ms/step - acc: 0.9163 - loss: 0.2881 - val_acc: 0.8894 - val_loss: 0.3335\n",
      "Epoch 11/1000\n",
      "196/196 - 6s - 31ms/step - acc: 0.9182 - loss: 0.2708 - val_acc: 0.8888 - val_loss: 0.3225\n",
      "Epoch 12/1000\n",
      "196/196 - 6s - 31ms/step - acc: 0.9227 - loss: 0.2546 - val_acc: 0.8955 - val_loss: 0.3054\n",
      "Epoch 13/1000\n",
      "196/196 - 6s - 31ms/step - acc: 0.9231 - loss: 0.2426 - val_acc: 0.8903 - val_loss: 0.3053\n",
      "Epoch 14/1000\n",
      "196/196 - 6s - 31ms/step - acc: 0.9282 - loss: 0.2297 - val_acc: 0.8962 - val_loss: 0.2899\n",
      "Epoch 15/1000\n",
      "196/196 - 6s - 30ms/step - acc: 0.9289 - loss: 0.2201 - val_acc: 0.9011 - val_loss: 0.2772\n",
      "Epoch 16/1000\n",
      "196/196 - 6s - 31ms/step - acc: 0.9332 - loss: 0.2098 - val_acc: 0.8976 - val_loss: 0.2772\n",
      "Epoch 17/1000\n",
      "196/196 - 6s - 31ms/step - acc: 0.9339 - loss: 0.2025 - val_acc: 0.8947 - val_loss: 0.2783\n",
      "Epoch 18/1000\n",
      "196/196 - 6s - 31ms/step - acc: 0.9369 - loss: 0.1949 - val_acc: 0.8969 - val_loss: 0.2692\n",
      "Epoch 19/1000\n",
      "196/196 - 6s - 31ms/step - acc: 0.9379 - loss: 0.1880 - val_acc: 0.9029 - val_loss: 0.2565\n",
      "Epoch 20/1000\n",
      "196/196 - 6s - 32ms/step - acc: 0.9399 - loss: 0.1812 - val_acc: 0.9091 - val_loss: 0.2452\n",
      "Epoch 21/1000\n",
      "196/196 - 6s - 32ms/step - acc: 0.9408 - loss: 0.1757 - val_acc: 0.9015 - val_loss: 0.2539\n",
      "Epoch 22/1000\n",
      "196/196 - 6s - 31ms/step - acc: 0.9444 - loss: 0.1685 - val_acc: 0.9050 - val_loss: 0.2453\n",
      "Epoch 23/1000\n",
      "196/196 - 6s - 31ms/step - acc: 0.9467 - loss: 0.1639 - val_acc: 0.8967 - val_loss: 0.2590\n",
      "Epoch 24/1000\n",
      "196/196 - 6s - 30ms/step - acc: 0.9466 - loss: 0.1588 - val_acc: 0.9013 - val_loss: 0.2490\n",
      "\n",
      "Validation accuracy: 0.9013000130653381, loss: 0.2490198016166687\n"
     ]
    }
   ],
   "source": [
    "ngram_model, ngram_history, ngram_test_texts = train_ngram_model(train_texts, train_labels, val_texts, val_labels, test_texts)"
   ]
  },
  {
   "cell_type": "code",
   "execution_count": 70,
   "metadata": {},
   "outputs": [
    {
     "data": {
      "text/html": [
       "<pre style=\"white-space:pre;overflow-x:auto;line-height:normal;font-family:Menlo,'DejaVu Sans Mono',consolas,'Courier New',monospace\"><span style=\"font-weight: bold\">Model: \"sequential_4\"</span>\n",
       "</pre>\n"
      ],
      "text/plain": [
       "\u001b[1mModel: \"sequential_4\"\u001b[0m\n"
      ]
     },
     "metadata": {},
     "output_type": "display_data"
    },
    {
     "data": {
      "text/html": [
       "<pre style=\"white-space:pre;overflow-x:auto;line-height:normal;font-family:Menlo,'DejaVu Sans Mono',consolas,'Courier New',monospace\">┏━━━━━━━━━━━━━━━━━━━━━━━━━━━━━━━━━┳━━━━━━━━━━━━━━━━━━━━━━━━┳━━━━━━━━━━━━━━━┓\n",
       "┃<span style=\"font-weight: bold\"> Layer (type)                    </span>┃<span style=\"font-weight: bold\"> Output Shape           </span>┃<span style=\"font-weight: bold\">       Param # </span>┃\n",
       "┡━━━━━━━━━━━━━━━━━━━━━━━━━━━━━━━━━╇━━━━━━━━━━━━━━━━━━━━━━━━╇━━━━━━━━━━━━━━━┩\n",
       "│ dropout_8 (<span style=\"color: #0087ff; text-decoration-color: #0087ff\">Dropout</span>)             │ (<span style=\"color: #00d7ff; text-decoration-color: #00d7ff\">None</span>, <span style=\"color: #00af00; text-decoration-color: #00af00\">20000</span>)          │             <span style=\"color: #00af00; text-decoration-color: #00af00\">0</span> │\n",
       "├─────────────────────────────────┼────────────────────────┼───────────────┤\n",
       "│ dense_8 (<span style=\"color: #0087ff; text-decoration-color: #0087ff\">Dense</span>)                 │ (<span style=\"color: #00d7ff; text-decoration-color: #00d7ff\">None</span>, <span style=\"color: #00af00; text-decoration-color: #00af00\">64</span>)             │     <span style=\"color: #00af00; text-decoration-color: #00af00\">1,280,064</span> │\n",
       "├─────────────────────────────────┼────────────────────────┼───────────────┤\n",
       "│ dropout_9 (<span style=\"color: #0087ff; text-decoration-color: #0087ff\">Dropout</span>)             │ (<span style=\"color: #00d7ff; text-decoration-color: #00d7ff\">None</span>, <span style=\"color: #00af00; text-decoration-color: #00af00\">64</span>)             │             <span style=\"color: #00af00; text-decoration-color: #00af00\">0</span> │\n",
       "├─────────────────────────────────┼────────────────────────┼───────────────┤\n",
       "│ dense_9 (<span style=\"color: #0087ff; text-decoration-color: #0087ff\">Dense</span>)                 │ (<span style=\"color: #00d7ff; text-decoration-color: #00d7ff\">None</span>, <span style=\"color: #00af00; text-decoration-color: #00af00\">1</span>)              │            <span style=\"color: #00af00; text-decoration-color: #00af00\">65</span> │\n",
       "└─────────────────────────────────┴────────────────────────┴───────────────┘\n",
       "</pre>\n"
      ],
      "text/plain": [
       "┏━━━━━━━━━━━━━━━━━━━━━━━━━━━━━━━━━┳━━━━━━━━━━━━━━━━━━━━━━━━┳━━━━━━━━━━━━━━━┓\n",
       "┃\u001b[1m \u001b[0m\u001b[1mLayer (type)                   \u001b[0m\u001b[1m \u001b[0m┃\u001b[1m \u001b[0m\u001b[1mOutput Shape          \u001b[0m\u001b[1m \u001b[0m┃\u001b[1m \u001b[0m\u001b[1m      Param #\u001b[0m\u001b[1m \u001b[0m┃\n",
       "┡━━━━━━━━━━━━━━━━━━━━━━━━━━━━━━━━━╇━━━━━━━━━━━━━━━━━━━━━━━━╇━━━━━━━━━━━━━━━┩\n",
       "│ dropout_8 (\u001b[38;5;33mDropout\u001b[0m)             │ (\u001b[38;5;45mNone\u001b[0m, \u001b[38;5;34m20000\u001b[0m)          │             \u001b[38;5;34m0\u001b[0m │\n",
       "├─────────────────────────────────┼────────────────────────┼───────────────┤\n",
       "│ dense_8 (\u001b[38;5;33mDense\u001b[0m)                 │ (\u001b[38;5;45mNone\u001b[0m, \u001b[38;5;34m64\u001b[0m)             │     \u001b[38;5;34m1,280,064\u001b[0m │\n",
       "├─────────────────────────────────┼────────────────────────┼───────────────┤\n",
       "│ dropout_9 (\u001b[38;5;33mDropout\u001b[0m)             │ (\u001b[38;5;45mNone\u001b[0m, \u001b[38;5;34m64\u001b[0m)             │             \u001b[38;5;34m0\u001b[0m │\n",
       "├─────────────────────────────────┼────────────────────────┼───────────────┤\n",
       "│ dense_9 (\u001b[38;5;33mDense\u001b[0m)                 │ (\u001b[38;5;45mNone\u001b[0m, \u001b[38;5;34m1\u001b[0m)              │            \u001b[38;5;34m65\u001b[0m │\n",
       "└─────────────────────────────────┴────────────────────────┴───────────────┘\n"
      ]
     },
     "metadata": {},
     "output_type": "display_data"
    },
    {
     "data": {
      "text/html": [
       "<pre style=\"white-space:pre;overflow-x:auto;line-height:normal;font-family:Menlo,'DejaVu Sans Mono',consolas,'Courier New',monospace\"><span style=\"font-weight: bold\"> Total params: </span><span style=\"color: #00af00; text-decoration-color: #00af00\">3,840,389</span> (14.65 MB)\n",
       "</pre>\n"
      ],
      "text/plain": [
       "\u001b[1m Total params: \u001b[0m\u001b[38;5;34m3,840,389\u001b[0m (14.65 MB)\n"
      ]
     },
     "metadata": {},
     "output_type": "display_data"
    },
    {
     "data": {
      "text/html": [
       "<pre style=\"white-space:pre;overflow-x:auto;line-height:normal;font-family:Menlo,'DejaVu Sans Mono',consolas,'Courier New',monospace\"><span style=\"font-weight: bold\"> Trainable params: </span><span style=\"color: #00af00; text-decoration-color: #00af00\">1,280,129</span> (4.88 MB)\n",
       "</pre>\n"
      ],
      "text/plain": [
       "\u001b[1m Trainable params: \u001b[0m\u001b[38;5;34m1,280,129\u001b[0m (4.88 MB)\n"
      ]
     },
     "metadata": {},
     "output_type": "display_data"
    },
    {
     "data": {
      "text/html": [
       "<pre style=\"white-space:pre;overflow-x:auto;line-height:normal;font-family:Menlo,'DejaVu Sans Mono',consolas,'Courier New',monospace\"><span style=\"font-weight: bold\"> Non-trainable params: </span><span style=\"color: #00af00; text-decoration-color: #00af00\">0</span> (0.00 B)\n",
       "</pre>\n"
      ],
      "text/plain": [
       "\u001b[1m Non-trainable params: \u001b[0m\u001b[38;5;34m0\u001b[0m (0.00 B)\n"
      ]
     },
     "metadata": {},
     "output_type": "display_data"
    },
    {
     "data": {
      "text/html": [
       "<pre style=\"white-space:pre;overflow-x:auto;line-height:normal;font-family:Menlo,'DejaVu Sans Mono',consolas,'Courier New',monospace\"><span style=\"font-weight: bold\"> Optimizer params: </span><span style=\"color: #00af00; text-decoration-color: #00af00\">2,560,260</span> (9.77 MB)\n",
       "</pre>\n"
      ],
      "text/plain": [
       "\u001b[1m Optimizer params: \u001b[0m\u001b[38;5;34m2,560,260\u001b[0m (9.77 MB)\n"
      ]
     },
     "metadata": {},
     "output_type": "display_data"
    }
   ],
   "source": [
    "ngram_model.summary()"
   ]
  },
  {
   "cell_type": "markdown",
   "metadata": {},
   "source": [
    "### Sequence model"
   ]
  },
  {
   "cell_type": "code",
   "execution_count": 71,
   "metadata": {},
   "outputs": [],
   "source": [
    "\n",
    "def train_sequence_model(train_texts, train_labels, val_texts, val_labels, test_texts, blocks=2, filters=64, kernel_size=3, embedding_dim=200, \n",
    "                         dropout_rate=0.2, pool_size=3, num_classes=2, learning_rate=1e-4, epochs=1000, batch_size=128):\n",
    "    \"\"\"Trains sequence model on the given dataset.\n",
    "\n",
    "    Arguments\n",
    "    - data: tuples of training and test texts and labels.\n",
    "    - learning_rate: float, learning rate for training model.\n",
    "    - epochs: int, number of epochs.\n",
    "    - batch_size: int, number of samples per batch.\n",
    "    - blocks: int, number of pairs of sepCNN and pooling blocks in the model.\n",
    "    - filters: int, output dimension of sepCNN layers in the model.\n",
    "    - dropout_rate: float: percentage of input to drop at Dropout layers.\n",
    "    - embedding_dim: int, dimension of the embedding vectors.\n",
    "    - kernel_size: int, length of the convolution window.\n",
    "    - pool_size: int, factor by which to downscale input at MaxPooling layer.\n",
    "    \"\"\"\n",
    "\n",
    "    # Vectorize texts\n",
    "    train_texts, val_texts, test_texts, word_index = sequence_vectorize(train_texts, val_texts, test_texts)\n",
    "\n",
    "    # Number of features will be the embedding input dimension. Add 1 for the reserved index 0.\n",
    "    num_features = min(len(word_index) + 1, TOP_K)\n",
    "\n",
    "    # Create model instance\n",
    "    model = sepcnn_model(blocks=blocks, \n",
    "                         filters=filters,\n",
    "                         kernel_size=kernel_size,\n",
    "                         embedding_dim=embedding_dim,\n",
    "                         dropout_rate=dropout_rate,\n",
    "                         pool_size=pool_size,\n",
    "                         input_shape=train_texts.shape[1:],\n",
    "                         num_classes=num_classes,\n",
    "                         num_features=num_features)\n",
    "\n",
    "    # Compile model with learning parameters\n",
    "    if num_classes == 2:\n",
    "        loss = 'binary_crossentropy'\n",
    "    else:\n",
    "        loss = 'sparse_categorical_crossentropy'\n",
    "    \n",
    "    model.compile(optimizer=Adam(lr=learning_rate), loss=loss, metrics=['acc'])\n",
    "\n",
    "    # Create callback for early stopping on validation loss. If the loss does\n",
    "    # not decrease in patience consecutive tries, stop training.\n",
    "    callbacks = [EarlyStopping(monitor='val_loss', patience=4)]\n",
    "\n",
    "    # Train and validate model.\n",
    "    history = model.fit(\n",
    "            train_texts,\n",
    "            train_labels,\n",
    "            epochs=epochs,\n",
    "            callbacks=callbacks,\n",
    "            validation_data=(val_texts, val_labels),\n",
    "            verbose=2,  # Logs once per epoch.\n",
    "            batch_size=batch_size)\n",
    "    \n",
    "    # Print results.\n",
    "    print(f\"\\nValidation accuracy: {history.history['val_acc'][-1]}, loss: {history.history['val_loss'][-1]}\")\n",
    "\n",
    "    # Save model.\n",
    "    model.save('sequence_model.keras')\n",
    "\n",
    "    return model, history, test_texts"
   ]
  },
  {
   "cell_type": "code",
   "execution_count": 72,
   "metadata": {},
   "outputs": [
    {
     "name": "stdout",
     "output_type": "stream",
     "text": [
      "Epoch 1/1000\n",
      "196/196 - 10s - 51ms/step - acc: 0.7756 - loss: 0.6718 - val_acc: 0.8051 - val_loss: 0.6597\n",
      "Epoch 2/1000\n",
      "196/196 - 7s - 38ms/step - acc: 0.8744 - loss: 0.6110 - val_acc: 0.8396 - val_loss: 0.6069\n",
      "Epoch 3/1000\n",
      "196/196 - 7s - 36ms/step - acc: 0.8835 - loss: 0.5479 - val_acc: 0.8523 - val_loss: 0.5548\n",
      "Epoch 4/1000\n",
      "196/196 - 7s - 34ms/step - acc: 0.8892 - loss: 0.4895 - val_acc: 0.8658 - val_loss: 0.5008\n",
      "Epoch 5/1000\n",
      "196/196 - 7s - 33ms/step - acc: 0.8957 - loss: 0.4382 - val_acc: 0.8657 - val_loss: 0.4648\n",
      "Epoch 6/1000\n",
      "196/196 - 7s - 33ms/step - acc: 0.9010 - loss: 0.3956 - val_acc: 0.8670 - val_loss: 0.4352\n",
      "Epoch 7/1000\n",
      "196/196 - 6s - 33ms/step - acc: 0.9050 - loss: 0.3602 - val_acc: 0.8716 - val_loss: 0.4065\n",
      "Epoch 8/1000\n",
      "196/196 - 7s - 34ms/step - acc: 0.9089 - loss: 0.3310 - val_acc: 0.8806 - val_loss: 0.3762\n",
      "Epoch 9/1000\n",
      "196/196 - 7s - 34ms/step - acc: 0.9126 - loss: 0.3081 - val_acc: 0.8841 - val_loss: 0.3555\n",
      "Epoch 10/1000\n",
      "196/196 - 7s - 33ms/step - acc: 0.9154 - loss: 0.2872 - val_acc: 0.8858 - val_loss: 0.3412\n",
      "Epoch 11/1000\n",
      "196/196 - 6s - 32ms/step - acc: 0.9190 - loss: 0.2691 - val_acc: 0.8900 - val_loss: 0.3249\n",
      "Epoch 12/1000\n",
      "196/196 - 7s - 34ms/step - acc: 0.9242 - loss: 0.2539 - val_acc: 0.8962 - val_loss: 0.3069\n",
      "Epoch 13/1000\n",
      "196/196 - 7s - 34ms/step - acc: 0.9252 - loss: 0.2412 - val_acc: 0.8995 - val_loss: 0.2954\n",
      "Epoch 14/1000\n",
      "196/196 - 7s - 34ms/step - acc: 0.9278 - loss: 0.2304 - val_acc: 0.8976 - val_loss: 0.2914\n",
      "Epoch 15/1000\n",
      "196/196 - 7s - 34ms/step - acc: 0.9290 - loss: 0.2199 - val_acc: 0.8955 - val_loss: 0.2879\n",
      "Epoch 16/1000\n",
      "196/196 - 6s - 32ms/step - acc: 0.9332 - loss: 0.2100 - val_acc: 0.8943 - val_loss: 0.2832\n",
      "Epoch 17/1000\n",
      "196/196 - 7s - 34ms/step - acc: 0.9338 - loss: 0.2021 - val_acc: 0.8962 - val_loss: 0.2758\n",
      "Epoch 18/1000\n",
      "196/196 - 6s - 32ms/step - acc: 0.9367 - loss: 0.1934 - val_acc: 0.8959 - val_loss: 0.2724\n",
      "Epoch 19/1000\n",
      "196/196 - 6s - 32ms/step - acc: 0.9406 - loss: 0.1871 - val_acc: 0.8966 - val_loss: 0.2681\n",
      "Epoch 20/1000\n",
      "196/196 - 6s - 32ms/step - acc: 0.9402 - loss: 0.1797 - val_acc: 0.9019 - val_loss: 0.2571\n",
      "Epoch 21/1000\n",
      "196/196 - 7s - 34ms/step - acc: 0.9424 - loss: 0.1747 - val_acc: 0.8973 - val_loss: 0.2618\n",
      "Epoch 22/1000\n",
      "196/196 - 6s - 32ms/step - acc: 0.9443 - loss: 0.1692 - val_acc: 0.9039 - val_loss: 0.2488\n",
      "Epoch 23/1000\n",
      "196/196 - 6s - 32ms/step - acc: 0.9470 - loss: 0.1637 - val_acc: 0.8992 - val_loss: 0.2553\n",
      "Epoch 24/1000\n",
      "196/196 - 6s - 32ms/step - acc: 0.9473 - loss: 0.1582 - val_acc: 0.9047 - val_loss: 0.2446\n",
      "Epoch 25/1000\n",
      "196/196 - 6s - 32ms/step - acc: 0.9498 - loss: 0.1532 - val_acc: 0.9012 - val_loss: 0.2507\n",
      "Epoch 26/1000\n",
      "196/196 - 6s - 32ms/step - acc: 0.9511 - loss: 0.1490 - val_acc: 0.9043 - val_loss: 0.2458\n",
      "Epoch 27/1000\n",
      "196/196 - 6s - 32ms/step - acc: 0.9527 - loss: 0.1449 - val_acc: 0.9016 - val_loss: 0.2477\n",
      "Epoch 28/1000\n",
      "196/196 - 6s - 32ms/step - acc: 0.9534 - loss: 0.1418 - val_acc: 0.9042 - val_loss: 0.2418\n",
      "Epoch 29/1000\n",
      "196/196 - 6s - 32ms/step - acc: 0.9557 - loss: 0.1374 - val_acc: 0.9037 - val_loss: 0.2417\n",
      "Epoch 30/1000\n",
      "196/196 - 6s - 32ms/step - acc: 0.9561 - loss: 0.1346 - val_acc: 0.9014 - val_loss: 0.2456\n",
      "Epoch 31/1000\n",
      "196/196 - 6s - 32ms/step - acc: 0.9568 - loss: 0.1303 - val_acc: 0.9021 - val_loss: 0.2431\n",
      "Epoch 32/1000\n",
      "196/196 - 6s - 32ms/step - acc: 0.9581 - loss: 0.1268 - val_acc: 0.9044 - val_loss: 0.2391\n",
      "Epoch 33/1000\n",
      "196/196 - 6s - 31ms/step - acc: 0.9606 - loss: 0.1234 - val_acc: 0.9056 - val_loss: 0.2366\n",
      "Epoch 34/1000\n",
      "196/196 - 6s - 32ms/step - acc: 0.9619 - loss: 0.1206 - val_acc: 0.9009 - val_loss: 0.2444\n",
      "Epoch 35/1000\n",
      "196/196 - 6s - 33ms/step - acc: 0.9622 - loss: 0.1173 - val_acc: 0.9037 - val_loss: 0.2390\n",
      "Epoch 36/1000\n",
      "196/196 - 6s - 32ms/step - acc: 0.9627 - loss: 0.1134 - val_acc: 0.9001 - val_loss: 0.2448\n",
      "Epoch 37/1000\n",
      "196/196 - 6s - 33ms/step - acc: 0.9641 - loss: 0.1120 - val_acc: 0.9024 - val_loss: 0.2403\n",
      "\n",
      "Validation accuracy: 0.902400016784668, loss: 0.24030263721942902\n"
     ]
    }
   ],
   "source": [
    "sequence_model, sequence_history, sequence_test_texts= train_ngram_model(train_texts, train_labels, val_texts, val_labels, test_texts)"
   ]
  },
  {
   "cell_type": "code",
   "execution_count": 73,
   "metadata": {},
   "outputs": [
    {
     "data": {
      "text/html": [
       "<pre style=\"white-space:pre;overflow-x:auto;line-height:normal;font-family:Menlo,'DejaVu Sans Mono',consolas,'Courier New',monospace\"><span style=\"font-weight: bold\">Model: \"sequential_5\"</span>\n",
       "</pre>\n"
      ],
      "text/plain": [
       "\u001b[1mModel: \"sequential_5\"\u001b[0m\n"
      ]
     },
     "metadata": {},
     "output_type": "display_data"
    },
    {
     "data": {
      "text/html": [
       "<pre style=\"white-space:pre;overflow-x:auto;line-height:normal;font-family:Menlo,'DejaVu Sans Mono',consolas,'Courier New',monospace\">┏━━━━━━━━━━━━━━━━━━━━━━━━━━━━━━━━━┳━━━━━━━━━━━━━━━━━━━━━━━━┳━━━━━━━━━━━━━━━┓\n",
       "┃<span style=\"font-weight: bold\"> Layer (type)                    </span>┃<span style=\"font-weight: bold\"> Output Shape           </span>┃<span style=\"font-weight: bold\">       Param # </span>┃\n",
       "┡━━━━━━━━━━━━━━━━━━━━━━━━━━━━━━━━━╇━━━━━━━━━━━━━━━━━━━━━━━━╇━━━━━━━━━━━━━━━┩\n",
       "│ dropout_10 (<span style=\"color: #0087ff; text-decoration-color: #0087ff\">Dropout</span>)            │ (<span style=\"color: #00d7ff; text-decoration-color: #00d7ff\">None</span>, <span style=\"color: #00af00; text-decoration-color: #00af00\">20000</span>)          │             <span style=\"color: #00af00; text-decoration-color: #00af00\">0</span> │\n",
       "├─────────────────────────────────┼────────────────────────┼───────────────┤\n",
       "│ dense_10 (<span style=\"color: #0087ff; text-decoration-color: #0087ff\">Dense</span>)                │ (<span style=\"color: #00d7ff; text-decoration-color: #00d7ff\">None</span>, <span style=\"color: #00af00; text-decoration-color: #00af00\">64</span>)             │     <span style=\"color: #00af00; text-decoration-color: #00af00\">1,280,064</span> │\n",
       "├─────────────────────────────────┼────────────────────────┼───────────────┤\n",
       "│ dropout_11 (<span style=\"color: #0087ff; text-decoration-color: #0087ff\">Dropout</span>)            │ (<span style=\"color: #00d7ff; text-decoration-color: #00d7ff\">None</span>, <span style=\"color: #00af00; text-decoration-color: #00af00\">64</span>)             │             <span style=\"color: #00af00; text-decoration-color: #00af00\">0</span> │\n",
       "├─────────────────────────────────┼────────────────────────┼───────────────┤\n",
       "│ dense_11 (<span style=\"color: #0087ff; text-decoration-color: #0087ff\">Dense</span>)                │ (<span style=\"color: #00d7ff; text-decoration-color: #00d7ff\">None</span>, <span style=\"color: #00af00; text-decoration-color: #00af00\">1</span>)              │            <span style=\"color: #00af00; text-decoration-color: #00af00\">65</span> │\n",
       "└─────────────────────────────────┴────────────────────────┴───────────────┘\n",
       "</pre>\n"
      ],
      "text/plain": [
       "┏━━━━━━━━━━━━━━━━━━━━━━━━━━━━━━━━━┳━━━━━━━━━━━━━━━━━━━━━━━━┳━━━━━━━━━━━━━━━┓\n",
       "┃\u001b[1m \u001b[0m\u001b[1mLayer (type)                   \u001b[0m\u001b[1m \u001b[0m┃\u001b[1m \u001b[0m\u001b[1mOutput Shape          \u001b[0m\u001b[1m \u001b[0m┃\u001b[1m \u001b[0m\u001b[1m      Param #\u001b[0m\u001b[1m \u001b[0m┃\n",
       "┡━━━━━━━━━━━━━━━━━━━━━━━━━━━━━━━━━╇━━━━━━━━━━━━━━━━━━━━━━━━╇━━━━━━━━━━━━━━━┩\n",
       "│ dropout_10 (\u001b[38;5;33mDropout\u001b[0m)            │ (\u001b[38;5;45mNone\u001b[0m, \u001b[38;5;34m20000\u001b[0m)          │             \u001b[38;5;34m0\u001b[0m │\n",
       "├─────────────────────────────────┼────────────────────────┼───────────────┤\n",
       "│ dense_10 (\u001b[38;5;33mDense\u001b[0m)                │ (\u001b[38;5;45mNone\u001b[0m, \u001b[38;5;34m64\u001b[0m)             │     \u001b[38;5;34m1,280,064\u001b[0m │\n",
       "├─────────────────────────────────┼────────────────────────┼───────────────┤\n",
       "│ dropout_11 (\u001b[38;5;33mDropout\u001b[0m)            │ (\u001b[38;5;45mNone\u001b[0m, \u001b[38;5;34m64\u001b[0m)             │             \u001b[38;5;34m0\u001b[0m │\n",
       "├─────────────────────────────────┼────────────────────────┼───────────────┤\n",
       "│ dense_11 (\u001b[38;5;33mDense\u001b[0m)                │ (\u001b[38;5;45mNone\u001b[0m, \u001b[38;5;34m1\u001b[0m)              │            \u001b[38;5;34m65\u001b[0m │\n",
       "└─────────────────────────────────┴────────────────────────┴───────────────┘\n"
      ]
     },
     "metadata": {},
     "output_type": "display_data"
    },
    {
     "data": {
      "text/html": [
       "<pre style=\"white-space:pre;overflow-x:auto;line-height:normal;font-family:Menlo,'DejaVu Sans Mono',consolas,'Courier New',monospace\"><span style=\"font-weight: bold\"> Total params: </span><span style=\"color: #00af00; text-decoration-color: #00af00\">3,840,389</span> (14.65 MB)\n",
       "</pre>\n"
      ],
      "text/plain": [
       "\u001b[1m Total params: \u001b[0m\u001b[38;5;34m3,840,389\u001b[0m (14.65 MB)\n"
      ]
     },
     "metadata": {},
     "output_type": "display_data"
    },
    {
     "data": {
      "text/html": [
       "<pre style=\"white-space:pre;overflow-x:auto;line-height:normal;font-family:Menlo,'DejaVu Sans Mono',consolas,'Courier New',monospace\"><span style=\"font-weight: bold\"> Trainable params: </span><span style=\"color: #00af00; text-decoration-color: #00af00\">1,280,129</span> (4.88 MB)\n",
       "</pre>\n"
      ],
      "text/plain": [
       "\u001b[1m Trainable params: \u001b[0m\u001b[38;5;34m1,280,129\u001b[0m (4.88 MB)\n"
      ]
     },
     "metadata": {},
     "output_type": "display_data"
    },
    {
     "data": {
      "text/html": [
       "<pre style=\"white-space:pre;overflow-x:auto;line-height:normal;font-family:Menlo,'DejaVu Sans Mono',consolas,'Courier New',monospace\"><span style=\"font-weight: bold\"> Non-trainable params: </span><span style=\"color: #00af00; text-decoration-color: #00af00\">0</span> (0.00 B)\n",
       "</pre>\n"
      ],
      "text/plain": [
       "\u001b[1m Non-trainable params: \u001b[0m\u001b[38;5;34m0\u001b[0m (0.00 B)\n"
      ]
     },
     "metadata": {},
     "output_type": "display_data"
    },
    {
     "data": {
      "text/html": [
       "<pre style=\"white-space:pre;overflow-x:auto;line-height:normal;font-family:Menlo,'DejaVu Sans Mono',consolas,'Courier New',monospace\"><span style=\"font-weight: bold\"> Optimizer params: </span><span style=\"color: #00af00; text-decoration-color: #00af00\">2,560,260</span> (9.77 MB)\n",
       "</pre>\n"
      ],
      "text/plain": [
       "\u001b[1m Optimizer params: \u001b[0m\u001b[38;5;34m2,560,260\u001b[0m (9.77 MB)\n"
      ]
     },
     "metadata": {},
     "output_type": "display_data"
    }
   ],
   "source": [
    "sequence_model.summary()"
   ]
  },
  {
   "cell_type": "markdown",
   "metadata": {},
   "source": [
    "## Tune hyperparameters"
   ]
  },
  {
   "cell_type": "code",
   "execution_count": 74,
   "metadata": {},
   "outputs": [],
   "source": [
    "def plot_history(history):\n",
    "    hist = pd.DataFrame(history.history)\n",
    "    hist['epoch'] = history.epoch\n",
    "\n",
    "    plt.figure()\n",
    "    plt.xlabel('Epoch')\n",
    "    plt.ylabel('Loss')\n",
    "    plt.plot(hist['epoch'], hist['loss'], label='Train Loss')\n",
    "    plt.plot(hist['epoch'], hist['val_loss'], label = 'Val Loss')\n",
    "    plt.legend()\n",
    "\n",
    "    plt.figure()\n",
    "    plt.xlabel('Epoch')\n",
    "    plt.ylabel('Accuracy')\n",
    "    plt.plot(hist['epoch'], hist['acc'], label='Train Accuracy')\n",
    "    plt.plot(hist['epoch'], hist['val_acc'], label = 'Val Accuracy')\n",
    "    plt.legend()\n",
    "    plt.show()"
   ]
  },
  {
   "cell_type": "markdown",
   "metadata": {},
   "source": [
    "### N-gram model"
   ]
  },
  {
   "cell_type": "code",
   "execution_count": 75,
   "metadata": {},
   "outputs": [
    {
     "data": {
      "image/png": "[encoded data removed]",
      "text/plain": [
       "<Figure size 640x480 with 1 Axes>"
      ]
     },
     "metadata": {},
     "output_type": "display_data"
    },
    {
     "data": {
      "image/png": "[encoded data removed]",
      "text/plain": [
       "<Figure size 640x480 with 1 Axes>"
      ]
     },
     "metadata": {},
     "output_type": "display_data"
    }
   ],
   "source": [
    "plot_history(ngram_history)"
   ]
  },
  {
   "cell_type": "markdown",
   "metadata": {},
   "source": [
    "### Sequence model"
   ]
  },
  {
   "cell_type": "code",
   "execution_count": 76,
   "metadata": {},
   "outputs": [
    {
     "data": {
      "image/png": "[encoded data removed]",
      "text/plain": [
       "<Figure size 640x480 with 1 Axes>"
      ]
     },
     "metadata": {},
     "output_type": "display_data"
    },
    {
     "data": {
      "image/png": "[encoded data removed]",
      "text/plain": [
       "<Figure size 640x480 with 1 Axes>"
      ]
     },
     "metadata": {},
     "output_type": "display_data"
    }
   ],
   "source": [
    "plot_history(sequence_history)"
   ]
  },
  {
   "cell_type": "markdown",
   "metadata": {},
   "source": [
    "## Evaluate model"
   ]
  },
  {
   "cell_type": "markdown",
   "metadata": {},
   "source": [
    "### N-gram model"
   ]
  },
  {
   "cell_type": "code",
   "execution_count": 77,
   "metadata": {},
   "outputs": [
    {
     "name": "stdout",
     "output_type": "stream",
     "text": [
      "\u001b[1m469/469\u001b[0m \u001b[32m━━━━━━━━━━━━━━━━━━━━\u001b[0m\u001b[37m\u001b[0m \u001b[1m1s\u001b[0m 2ms/step - acc: 0.9123 - loss: 0.2249\n",
      "N-gram model loss: 0.23\n",
      "N-gram model accuracy: 90.72%\n"
     ]
    }
   ],
   "source": [
    "loss, acc = ngram_model.evaluate(ngram_test_texts, test_labels)\n",
    "print(f\"N-gram model loss: {loss:.2f}\")\n",
    "print(f\"N-gram model accuracy: {acc * 100:.2f}%\")"
   ]
  },
  {
   "cell_type": "markdown",
   "metadata": {},
   "source": [
    "### Sequence model"
   ]
  },
  {
   "cell_type": "code",
   "execution_count": 78,
   "metadata": {},
   "outputs": [
    {
     "name": "stdout",
     "output_type": "stream",
     "text": [
      "\u001b[1m469/469\u001b[0m \u001b[32m━━━━━━━━━━━━━━━━━━━━\u001b[0m\u001b[37m\u001b[0m \u001b[1m1s\u001b[0m 1ms/step - acc: 0.9141 - loss: 0.2113\n",
      "Sequence model loss: 0.22\n",
      "Sequence model accuracy: 90.93%\n"
     ]
    }
   ],
   "source": [
    "loss, acc = sequence_model.evaluate(sequence_test_texts, test_labels)\n",
    "print(f\"Sequence model loss: {loss:.2f}\")\n",
    "print(f\"Sequence model accuracy: {acc * 100:.2f}%\")"
   ]
  }
 ],
 "metadata": {
  "kernelspec": {
   "display_name": "venv",
   "language": "python",
   "name": "python3"
  },
  "language_info": {
   "codemirror_mode": {
    "name": "ipython",
    "version": 3
   },
   "file_extension": ".py",
   "mimetype": "text/x-python",
   "name": "python",
   "nbconvert_exporter": "python",
   "pygments_lexer": "ipython3",
   "version": "3.11.9"
  }
 },
 "nbformat": 4,
 "nbformat_minor": 2
}
